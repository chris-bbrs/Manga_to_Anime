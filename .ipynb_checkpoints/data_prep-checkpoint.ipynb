{
 "cells": [
  {
   "cell_type": "code",
   "execution_count": 5,
   "metadata": {},
   "outputs": [],
   "source": [
    "import os\n",
    "import subprocess\n",
    "import cv2\n",
    "import imageio.v3 as iio\n",
    "import videokf as vf\n",
    "from pymediainfo import MediaInfo"
   ]
  },
  {
   "cell_type": "code",
   "execution_count": 10,
   "metadata": {},
   "outputs": [
    {
     "data": {
      "text/plain": [
       "1469.141"
      ]
     },
     "execution_count": 10,
     "metadata": {},
     "output_type": "execute_result"
    }
   ],
   "source": [
    "anime = 'fma'\n",
    "ep_path = f\"mta_data/episodes/{anime}/\"\n",
    "abs_ep_path = os.path.abspath(f\"mta_data/episodes/{anime}/\")\n",
    "episodes = [os.path.join(abs_ep_path, file).replace(\"\\\\\",\"/\") for file in os.listdir(ep_path)]\n",
    "\n",
    "media_info = MediaInfo.parse(episodes[0])\n",
    "duration_sec = media_info.tracks[0].duration / 1000\n",
    "# frame_rate = media_info.video_tracks[0].frame_rate\n",
    "duration_sec"
   ]
  },
  {
   "cell_type": "code",
   "execution_count": 11,
   "metadata": {},
   "outputs": [
    {
     "data": {
      "text/plain": [
       "'c:/Users/chris/Documents/projects/manga_to_anime/mta_data/episodes/fma/fma_S01E06_1080p.mkv'"
      ]
     },
     "execution_count": 11,
     "metadata": {},
     "output_type": "execute_result"
    }
   ],
   "source": [
    "episodes[0]"
   ]
  },
  {
   "cell_type": "code",
   "execution_count": 18,
   "metadata": {},
   "outputs": [
    {
     "ename": "FileNotFoundError",
     "evalue": "[WinError 2] The system cannot find the file specified",
     "output_type": "error",
     "traceback": [
      "\u001b[1;31m---------------------------------------------------------------------------\u001b[0m",
      "\u001b[1;31mFileNotFoundError\u001b[0m                         Traceback (most recent call last)",
      "Cell \u001b[1;32mIn[18], line 9\u001b[0m\n\u001b[0;32m      6\u001b[0m \tffmpeg\u001b[39m.\u001b[39minput(mkv_file)\u001b[39m.\u001b[39moutput(out_name)\u001b[39m.\u001b[39mrun()\n\u001b[0;32m      7\u001b[0m \t\u001b[39mprint\u001b[39m(\u001b[39m\"\u001b[39m\u001b[39mFinished converting \u001b[39m\u001b[39m{}\u001b[39;00m\u001b[39m\"\u001b[39m\u001b[39m.\u001b[39mformat(mkv_file))\n\u001b[1;32m----> 9\u001b[0m convert_to_mp4(\u001b[39mr\u001b[39;49m\u001b[39m\"\u001b[39;49m\u001b[39mC:\u001b[39;49m\u001b[39m\\\u001b[39;49m\u001b[39mUsers\u001b[39;49m\u001b[39m\\\u001b[39;49m\u001b[39mchris\u001b[39;49m\u001b[39m\\\u001b[39;49m\u001b[39mDocuments\u001b[39;49m\u001b[39m\\\u001b[39;49m\u001b[39mprojects\u001b[39;49m\u001b[39m\\\u001b[39;49m\u001b[39mmanga_to_anime\u001b[39;49m\u001b[39m\\\u001b[39;49m\u001b[39mmta_data\u001b[39;49m\u001b[39m\\\u001b[39;49m\u001b[39mepisodes\u001b[39;49m\u001b[39m\\\u001b[39;49m\u001b[39mfma\u001b[39;49m\u001b[39m\\\u001b[39;49m\u001b[39mfma_S01E06_1080p.mkv\u001b[39;49m\u001b[39m\"\u001b[39;49m)\n",
      "Cell \u001b[1;32mIn[18], line 6\u001b[0m, in \u001b[0;36mconvert_to_mp4\u001b[1;34m(mkv_file)\u001b[0m\n\u001b[0;32m      4\u001b[0m name, ext \u001b[39m=\u001b[39m os\u001b[39m.\u001b[39mpath\u001b[39m.\u001b[39msplitext(mkv_file)\n\u001b[0;32m      5\u001b[0m out_name \u001b[39m=\u001b[39m name \u001b[39m+\u001b[39m \u001b[39m\"\u001b[39m\u001b[39m.mp4\u001b[39m\u001b[39m\"\u001b[39m\n\u001b[1;32m----> 6\u001b[0m ffmpeg\u001b[39m.\u001b[39;49minput(mkv_file)\u001b[39m.\u001b[39;49moutput(out_name)\u001b[39m.\u001b[39;49mrun()\n\u001b[0;32m      7\u001b[0m \u001b[39mprint\u001b[39m(\u001b[39m\"\u001b[39m\u001b[39mFinished converting \u001b[39m\u001b[39m{}\u001b[39;00m\u001b[39m\"\u001b[39m\u001b[39m.\u001b[39mformat(mkv_file))\n",
      "File \u001b[1;32mc:\\Users\\chris\\Documents\\projects\\manga_to_anime\\.venv\\lib\\site-packages\\ffmpeg\\_run.py:313\u001b[0m, in \u001b[0;36mrun\u001b[1;34m(stream_spec, cmd, capture_stdout, capture_stderr, input, quiet, overwrite_output)\u001b[0m\n\u001b[0;32m    289\u001b[0m \u001b[39m@output_operator\u001b[39m()\n\u001b[0;32m    290\u001b[0m \u001b[39mdef\u001b[39;00m \u001b[39mrun\u001b[39m(\n\u001b[0;32m    291\u001b[0m     stream_spec,\n\u001b[1;32m   (...)\u001b[0m\n\u001b[0;32m    297\u001b[0m     overwrite_output\u001b[39m=\u001b[39m\u001b[39mFalse\u001b[39;00m,\n\u001b[0;32m    298\u001b[0m ):\n\u001b[0;32m    299\u001b[0m     \u001b[39m\"\"\"Invoke ffmpeg for the supplied node graph.\u001b[39;00m\n\u001b[0;32m    300\u001b[0m \n\u001b[0;32m    301\u001b[0m \u001b[39m    Args:\u001b[39;00m\n\u001b[1;32m   (...)\u001b[0m\n\u001b[0;32m    311\u001b[0m \u001b[39m    Returns: (out, err) tuple containing captured stdout and stderr data.\u001b[39;00m\n\u001b[0;32m    312\u001b[0m \u001b[39m    \"\"\"\u001b[39;00m\n\u001b[1;32m--> 313\u001b[0m     process \u001b[39m=\u001b[39m run_async(\n\u001b[0;32m    314\u001b[0m         stream_spec,\n\u001b[0;32m    315\u001b[0m         cmd,\n\u001b[0;32m    316\u001b[0m         pipe_stdin\u001b[39m=\u001b[39;49m\u001b[39minput\u001b[39;49m \u001b[39mis\u001b[39;49;00m \u001b[39mnot\u001b[39;49;00m \u001b[39mNone\u001b[39;49;00m,\n\u001b[0;32m    317\u001b[0m         pipe_stdout\u001b[39m=\u001b[39;49mcapture_stdout,\n\u001b[0;32m    318\u001b[0m         pipe_stderr\u001b[39m=\u001b[39;49mcapture_stderr,\n\u001b[0;32m    319\u001b[0m         quiet\u001b[39m=\u001b[39;49mquiet,\n\u001b[0;32m    320\u001b[0m         overwrite_output\u001b[39m=\u001b[39;49moverwrite_output,\n\u001b[0;32m    321\u001b[0m     )\n\u001b[0;32m    322\u001b[0m     out, err \u001b[39m=\u001b[39m process\u001b[39m.\u001b[39mcommunicate(\u001b[39minput\u001b[39m)\n\u001b[0;32m    323\u001b[0m     retcode \u001b[39m=\u001b[39m process\u001b[39m.\u001b[39mpoll()\n",
      "File \u001b[1;32mc:\\Users\\chris\\Documents\\projects\\manga_to_anime\\.venv\\lib\\site-packages\\ffmpeg\\_run.py:284\u001b[0m, in \u001b[0;36mrun_async\u001b[1;34m(stream_spec, cmd, pipe_stdin, pipe_stdout, pipe_stderr, quiet, overwrite_output)\u001b[0m\n\u001b[0;32m    282\u001b[0m stdout_stream \u001b[39m=\u001b[39m subprocess\u001b[39m.\u001b[39mPIPE \u001b[39mif\u001b[39;00m pipe_stdout \u001b[39mor\u001b[39;00m quiet \u001b[39melse\u001b[39;00m \u001b[39mNone\u001b[39;00m\n\u001b[0;32m    283\u001b[0m stderr_stream \u001b[39m=\u001b[39m subprocess\u001b[39m.\u001b[39mPIPE \u001b[39mif\u001b[39;00m pipe_stderr \u001b[39mor\u001b[39;00m quiet \u001b[39melse\u001b[39;00m \u001b[39mNone\u001b[39;00m\n\u001b[1;32m--> 284\u001b[0m \u001b[39mreturn\u001b[39;00m subprocess\u001b[39m.\u001b[39;49mPopen(\n\u001b[0;32m    285\u001b[0m     args, stdin\u001b[39m=\u001b[39;49mstdin_stream, stdout\u001b[39m=\u001b[39;49mstdout_stream, stderr\u001b[39m=\u001b[39;49mstderr_stream\n\u001b[0;32m    286\u001b[0m )\n",
      "File \u001b[1;32m~\\AppData\\Local\\Programs\\Python\\Python310\\lib\\subprocess.py:966\u001b[0m, in \u001b[0;36mPopen.__init__\u001b[1;34m(self, args, bufsize, executable, stdin, stdout, stderr, preexec_fn, close_fds, shell, cwd, env, universal_newlines, startupinfo, creationflags, restore_signals, start_new_session, pass_fds, user, group, extra_groups, encoding, errors, text, umask, pipesize)\u001b[0m\n\u001b[0;32m    962\u001b[0m         \u001b[39mif\u001b[39;00m \u001b[39mself\u001b[39m\u001b[39m.\u001b[39mtext_mode:\n\u001b[0;32m    963\u001b[0m             \u001b[39mself\u001b[39m\u001b[39m.\u001b[39mstderr \u001b[39m=\u001b[39m io\u001b[39m.\u001b[39mTextIOWrapper(\u001b[39mself\u001b[39m\u001b[39m.\u001b[39mstderr,\n\u001b[0;32m    964\u001b[0m                     encoding\u001b[39m=\u001b[39mencoding, errors\u001b[39m=\u001b[39merrors)\n\u001b[1;32m--> 966\u001b[0m     \u001b[39mself\u001b[39;49m\u001b[39m.\u001b[39;49m_execute_child(args, executable, preexec_fn, close_fds,\n\u001b[0;32m    967\u001b[0m                         pass_fds, cwd, env,\n\u001b[0;32m    968\u001b[0m                         startupinfo, creationflags, shell,\n\u001b[0;32m    969\u001b[0m                         p2cread, p2cwrite,\n\u001b[0;32m    970\u001b[0m                         c2pread, c2pwrite,\n\u001b[0;32m    971\u001b[0m                         errread, errwrite,\n\u001b[0;32m    972\u001b[0m                         restore_signals,\n\u001b[0;32m    973\u001b[0m                         gid, gids, uid, umask,\n\u001b[0;32m    974\u001b[0m                         start_new_session)\n\u001b[0;32m    975\u001b[0m \u001b[39mexcept\u001b[39;00m:\n\u001b[0;32m    976\u001b[0m     \u001b[39m# Cleanup if the child failed starting.\u001b[39;00m\n\u001b[0;32m    977\u001b[0m     \u001b[39mfor\u001b[39;00m f \u001b[39min\u001b[39;00m \u001b[39mfilter\u001b[39m(\u001b[39mNone\u001b[39;00m, (\u001b[39mself\u001b[39m\u001b[39m.\u001b[39mstdin, \u001b[39mself\u001b[39m\u001b[39m.\u001b[39mstdout, \u001b[39mself\u001b[39m\u001b[39m.\u001b[39mstderr)):\n",
      "File \u001b[1;32m~\\AppData\\Local\\Programs\\Python\\Python310\\lib\\subprocess.py:1435\u001b[0m, in \u001b[0;36mPopen._execute_child\u001b[1;34m(self, args, executable, preexec_fn, close_fds, pass_fds, cwd, env, startupinfo, creationflags, shell, p2cread, p2cwrite, c2pread, c2pwrite, errread, errwrite, unused_restore_signals, unused_gid, unused_gids, unused_uid, unused_umask, unused_start_new_session)\u001b[0m\n\u001b[0;32m   1433\u001b[0m \u001b[39m# Start the process\u001b[39;00m\n\u001b[0;32m   1434\u001b[0m \u001b[39mtry\u001b[39;00m:\n\u001b[1;32m-> 1435\u001b[0m     hp, ht, pid, tid \u001b[39m=\u001b[39m _winapi\u001b[39m.\u001b[39;49mCreateProcess(executable, args,\n\u001b[0;32m   1436\u001b[0m                              \u001b[39m# no special security\u001b[39;49;00m\n\u001b[0;32m   1437\u001b[0m                              \u001b[39mNone\u001b[39;49;00m, \u001b[39mNone\u001b[39;49;00m,\n\u001b[0;32m   1438\u001b[0m                              \u001b[39mint\u001b[39;49m(\u001b[39mnot\u001b[39;49;00m close_fds),\n\u001b[0;32m   1439\u001b[0m                              creationflags,\n\u001b[0;32m   1440\u001b[0m                              env,\n\u001b[0;32m   1441\u001b[0m                              cwd,\n\u001b[0;32m   1442\u001b[0m                              startupinfo)\n\u001b[0;32m   1443\u001b[0m \u001b[39mfinally\u001b[39;00m:\n\u001b[0;32m   1444\u001b[0m     \u001b[39m# Child is launched. Close the parent's copy of those pipe\u001b[39;00m\n\u001b[0;32m   1445\u001b[0m     \u001b[39m# handles that only the child should have open.  You need\u001b[39;00m\n\u001b[1;32m   (...)\u001b[0m\n\u001b[0;32m   1448\u001b[0m     \u001b[39m# pipe will not close when the child process exits and the\u001b[39;00m\n\u001b[0;32m   1449\u001b[0m     \u001b[39m# ReadFile will hang.\u001b[39;00m\n\u001b[0;32m   1450\u001b[0m     \u001b[39mself\u001b[39m\u001b[39m.\u001b[39m_close_pipe_fds(p2cread, p2cwrite,\n\u001b[0;32m   1451\u001b[0m                          c2pread, c2pwrite,\n\u001b[0;32m   1452\u001b[0m                          errread, errwrite)\n",
      "\u001b[1;31mFileNotFoundError\u001b[0m: [WinError 2] The system cannot find the file specified"
     ]
    }
   ],
   "source": [
    "import ffmpeg\n",
    "\n",
    "def convert_to_mp4(mkv_file):\n",
    "\tname, ext = os.path.splitext(mkv_file)\n",
    "\tout_name = name + \".mp4\"\n",
    "\tffmpeg.input(mkv_file).output(out_name).run()\n",
    "\t# print(\"Finished converting {}\".format(mkv_file))\n",
    "\n",
    "convert_to_mp4(episodes[0])"
   ]
  },
  {
   "cell_type": "code",
   "execution_count": 19,
   "metadata": {},
   "outputs": [
    {
     "ename": "FileNotFoundError",
     "evalue": "[WinError 2] The system cannot find the file specified",
     "output_type": "error",
     "traceback": [
      "\u001b[1;31m---------------------------------------------------------------------------\u001b[0m",
      "\u001b[1;31mFileNotFoundError\u001b[0m                         Traceback (most recent call last)",
      "Cell \u001b[1;32mIn[19], line 26\u001b[0m\n\u001b[0;32m     23\u001b[0m         \u001b[39mprint\u001b[39m (\u001b[39m'\u001b[39m\u001b[39mNo I-frames in \u001b[39m\u001b[39m'\u001b[39m\u001b[39m+\u001b[39mvideo_fn)\n\u001b[0;32m     25\u001b[0m \u001b[39mif\u001b[39;00m \u001b[39m__name__\u001b[39m \u001b[39m==\u001b[39m \u001b[39m'\u001b[39m\u001b[39m__main__\u001b[39m\u001b[39m'\u001b[39m:\n\u001b[1;32m---> 26\u001b[0m     save_i_keyframes(filename)\n",
      "Cell \u001b[1;32mIn[19], line 10\u001b[0m, in \u001b[0;36msave_i_keyframes\u001b[1;34m(video_fn)\u001b[0m\n\u001b[0;32m      9\u001b[0m \u001b[39mdef\u001b[39;00m \u001b[39msave_i_keyframes\u001b[39m(video_fn):\n\u001b[1;32m---> 10\u001b[0m     frame_types \u001b[39m=\u001b[39m get_frame_types(video_fn)\n\u001b[0;32m     11\u001b[0m     i_frames \u001b[39m=\u001b[39m [x[\u001b[39m0\u001b[39m] \u001b[39mfor\u001b[39;00m x \u001b[39min\u001b[39;00m frame_types \u001b[39mif\u001b[39;00m x[\u001b[39m1\u001b[39m]\u001b[39m==\u001b[39m\u001b[39m'\u001b[39m\u001b[39mI\u001b[39m\u001b[39m'\u001b[39m]\n\u001b[0;32m     12\u001b[0m     \u001b[39mif\u001b[39;00m i_frames:\n",
      "Cell \u001b[1;32mIn[19], line 5\u001b[0m, in \u001b[0;36mget_frame_types\u001b[1;34m(video_fn)\u001b[0m\n\u001b[0;32m      3\u001b[0m \u001b[39mdef\u001b[39;00m \u001b[39mget_frame_types\u001b[39m(video_fn):\n\u001b[0;32m      4\u001b[0m     command \u001b[39m=\u001b[39m \u001b[39m'\u001b[39m\u001b[39mffprobe -v error -show_entries frame=pict_type -of default=noprint_wrappers=1\u001b[39m\u001b[39m'\u001b[39m\u001b[39m.\u001b[39msplit()\n\u001b[1;32m----> 5\u001b[0m     out \u001b[39m=\u001b[39m subprocess\u001b[39m.\u001b[39;49mcheck_output(command \u001b[39m+\u001b[39;49m [video_fn])\u001b[39m.\u001b[39mdecode()\n\u001b[0;32m      6\u001b[0m     frame_types \u001b[39m=\u001b[39m out\u001b[39m.\u001b[39mreplace(\u001b[39m'\u001b[39m\u001b[39mpict_type=\u001b[39m\u001b[39m'\u001b[39m,\u001b[39m'\u001b[39m\u001b[39m'\u001b[39m)\u001b[39m.\u001b[39msplit()\n\u001b[0;32m      7\u001b[0m     \u001b[39mreturn\u001b[39;00m \u001b[39mzip\u001b[39m(\u001b[39mrange\u001b[39m(\u001b[39mlen\u001b[39m(frame_types)), frame_types)\n",
      "File \u001b[1;32m~\\AppData\\Local\\Programs\\Python\\Python310\\lib\\subprocess.py:420\u001b[0m, in \u001b[0;36mcheck_output\u001b[1;34m(timeout, *popenargs, **kwargs)\u001b[0m\n\u001b[0;32m    417\u001b[0m         empty \u001b[39m=\u001b[39m \u001b[39mb\u001b[39m\u001b[39m'\u001b[39m\u001b[39m'\u001b[39m\n\u001b[0;32m    418\u001b[0m     kwargs[\u001b[39m'\u001b[39m\u001b[39minput\u001b[39m\u001b[39m'\u001b[39m] \u001b[39m=\u001b[39m empty\n\u001b[1;32m--> 420\u001b[0m \u001b[39mreturn\u001b[39;00m run(\u001b[39m*\u001b[39mpopenargs, stdout\u001b[39m=\u001b[39mPIPE, timeout\u001b[39m=\u001b[39mtimeout, check\u001b[39m=\u001b[39m\u001b[39mTrue\u001b[39;00m,\n\u001b[0;32m    421\u001b[0m            \u001b[39m*\u001b[39m\u001b[39m*\u001b[39mkwargs)\u001b[39m.\u001b[39mstdout\n",
      "File \u001b[1;32m~\\AppData\\Local\\Programs\\Python\\Python310\\lib\\subprocess.py:501\u001b[0m, in \u001b[0;36mrun\u001b[1;34m(input, capture_output, timeout, check, *popenargs, **kwargs)\u001b[0m\n\u001b[0;32m    498\u001b[0m     kwargs[\u001b[39m'\u001b[39m\u001b[39mstdout\u001b[39m\u001b[39m'\u001b[39m] \u001b[39m=\u001b[39m PIPE\n\u001b[0;32m    499\u001b[0m     kwargs[\u001b[39m'\u001b[39m\u001b[39mstderr\u001b[39m\u001b[39m'\u001b[39m] \u001b[39m=\u001b[39m PIPE\n\u001b[1;32m--> 501\u001b[0m \u001b[39mwith\u001b[39;00m Popen(\u001b[39m*\u001b[39mpopenargs, \u001b[39m*\u001b[39m\u001b[39m*\u001b[39mkwargs) \u001b[39mas\u001b[39;00m process:\n\u001b[0;32m    502\u001b[0m     \u001b[39mtry\u001b[39;00m:\n\u001b[0;32m    503\u001b[0m         stdout, stderr \u001b[39m=\u001b[39m process\u001b[39m.\u001b[39mcommunicate(\u001b[39minput\u001b[39m, timeout\u001b[39m=\u001b[39mtimeout)\n",
      "File \u001b[1;32m~\\AppData\\Local\\Programs\\Python\\Python310\\lib\\subprocess.py:966\u001b[0m, in \u001b[0;36mPopen.__init__\u001b[1;34m(self, args, bufsize, executable, stdin, stdout, stderr, preexec_fn, close_fds, shell, cwd, env, universal_newlines, startupinfo, creationflags, restore_signals, start_new_session, pass_fds, user, group, extra_groups, encoding, errors, text, umask, pipesize)\u001b[0m\n\u001b[0;32m    962\u001b[0m         \u001b[39mif\u001b[39;00m \u001b[39mself\u001b[39m\u001b[39m.\u001b[39mtext_mode:\n\u001b[0;32m    963\u001b[0m             \u001b[39mself\u001b[39m\u001b[39m.\u001b[39mstderr \u001b[39m=\u001b[39m io\u001b[39m.\u001b[39mTextIOWrapper(\u001b[39mself\u001b[39m\u001b[39m.\u001b[39mstderr,\n\u001b[0;32m    964\u001b[0m                     encoding\u001b[39m=\u001b[39mencoding, errors\u001b[39m=\u001b[39merrors)\n\u001b[1;32m--> 966\u001b[0m     \u001b[39mself\u001b[39;49m\u001b[39m.\u001b[39;49m_execute_child(args, executable, preexec_fn, close_fds,\n\u001b[0;32m    967\u001b[0m                         pass_fds, cwd, env,\n\u001b[0;32m    968\u001b[0m                         startupinfo, creationflags, shell,\n\u001b[0;32m    969\u001b[0m                         p2cread, p2cwrite,\n\u001b[0;32m    970\u001b[0m                         c2pread, c2pwrite,\n\u001b[0;32m    971\u001b[0m                         errread, errwrite,\n\u001b[0;32m    972\u001b[0m                         restore_signals,\n\u001b[0;32m    973\u001b[0m                         gid, gids, uid, umask,\n\u001b[0;32m    974\u001b[0m                         start_new_session)\n\u001b[0;32m    975\u001b[0m \u001b[39mexcept\u001b[39;00m:\n\u001b[0;32m    976\u001b[0m     \u001b[39m# Cleanup if the child failed starting.\u001b[39;00m\n\u001b[0;32m    977\u001b[0m     \u001b[39mfor\u001b[39;00m f \u001b[39min\u001b[39;00m \u001b[39mfilter\u001b[39m(\u001b[39mNone\u001b[39;00m, (\u001b[39mself\u001b[39m\u001b[39m.\u001b[39mstdin, \u001b[39mself\u001b[39m\u001b[39m.\u001b[39mstdout, \u001b[39mself\u001b[39m\u001b[39m.\u001b[39mstderr)):\n",
      "File \u001b[1;32m~\\AppData\\Local\\Programs\\Python\\Python310\\lib\\subprocess.py:1435\u001b[0m, in \u001b[0;36mPopen._execute_child\u001b[1;34m(self, args, executable, preexec_fn, close_fds, pass_fds, cwd, env, startupinfo, creationflags, shell, p2cread, p2cwrite, c2pread, c2pwrite, errread, errwrite, unused_restore_signals, unused_gid, unused_gids, unused_uid, unused_umask, unused_start_new_session)\u001b[0m\n\u001b[0;32m   1433\u001b[0m \u001b[39m# Start the process\u001b[39;00m\n\u001b[0;32m   1434\u001b[0m \u001b[39mtry\u001b[39;00m:\n\u001b[1;32m-> 1435\u001b[0m     hp, ht, pid, tid \u001b[39m=\u001b[39m _winapi\u001b[39m.\u001b[39;49mCreateProcess(executable, args,\n\u001b[0;32m   1436\u001b[0m                              \u001b[39m# no special security\u001b[39;49;00m\n\u001b[0;32m   1437\u001b[0m                              \u001b[39mNone\u001b[39;49;00m, \u001b[39mNone\u001b[39;49;00m,\n\u001b[0;32m   1438\u001b[0m                              \u001b[39mint\u001b[39;49m(\u001b[39mnot\u001b[39;49;00m close_fds),\n\u001b[0;32m   1439\u001b[0m                              creationflags,\n\u001b[0;32m   1440\u001b[0m                              env,\n\u001b[0;32m   1441\u001b[0m                              cwd,\n\u001b[0;32m   1442\u001b[0m                              startupinfo)\n\u001b[0;32m   1443\u001b[0m \u001b[39mfinally\u001b[39;00m:\n\u001b[0;32m   1444\u001b[0m     \u001b[39m# Child is launched. Close the parent's copy of those pipe\u001b[39;00m\n\u001b[0;32m   1445\u001b[0m     \u001b[39m# handles that only the child should have open.  You need\u001b[39;00m\n\u001b[1;32m   (...)\u001b[0m\n\u001b[0;32m   1448\u001b[0m     \u001b[39m# pipe will not close when the child process exits and the\u001b[39;00m\n\u001b[0;32m   1449\u001b[0m     \u001b[39m# ReadFile will hang.\u001b[39;00m\n\u001b[0;32m   1450\u001b[0m     \u001b[39mself\u001b[39m\u001b[39m.\u001b[39m_close_pipe_fds(p2cread, p2cwrite,\n\u001b[0;32m   1451\u001b[0m                          c2pread, c2pwrite,\n\u001b[0;32m   1452\u001b[0m                          errread, errwrite)\n",
      "\u001b[1;31mFileNotFoundError\u001b[0m: [WinError 2] The system cannot find the file specified"
     ]
    }
   ],
   "source": [
    "filename = r'C:\\Users\\chris\\Documents\\projects\\manga_to_anime\\mta_data\\episodes\\fma\\fma_S01E06_1080p.mkv'\n",
    "\n",
    "def get_frame_types(video_fn):\n",
    "    command = 'ffprobe -v error -show_entries frame=pict_type -of default=noprint_wrappers=1'.split()\n",
    "    out = subprocess.check_output(command + [video_fn]).decode()\n",
    "    frame_types = out.replace('pict_type=','').split()\n",
    "    return zip(range(len(frame_types)), frame_types)\n",
    "\n",
    "def save_i_keyframes(video_fn):\n",
    "    frame_types = get_frame_types(video_fn)\n",
    "    i_frames = [x[0] for x in frame_types if x[1]=='I']\n",
    "    if i_frames:\n",
    "        basename = os.path.splitext(os.path.basename(video_fn))[0]\n",
    "        cap = cv2.VideoCapture(video_fn)\n",
    "        for frame_no in i_frames:\n",
    "            cap.set(cv2.CAP_PROP_POS_FRAMES, frame_no)\n",
    "            ret, frame = cap.read()\n",
    "            outname = basename+'_i_frame_'+str(frame_no)+'.jpg'\n",
    "            cv2.imwrite(outname, frame)\n",
    "            print ('Saved: '+outname)\n",
    "        cap.release()\n",
    "    else:\n",
    "        print ('No I-frames in '+video_fn)\n",
    "\n",
    "if __name__ == '__main__':\n",
    "    save_i_keyframes(filename)"
   ]
  },
  {
   "cell_type": "code",
   "execution_count": 103,
   "metadata": {},
   "outputs": [
    {
     "ename": "Exception",
     "evalue": "(' Could not read frame from Video.', AttributeError(\"'NoneType' object has no attribute 'size'\"))",
     "output_type": "error",
     "traceback": [
      "\u001b[1;31m---------------------------------------------------------------------------\u001b[0m",
      "\u001b[1;31mAttributeError\u001b[0m                            Traceback (most recent call last)",
      "File \u001b[1;32mc:\\Users\\chris\\Documents\\projects\\manga_to_anime\\.venv\\lib\\site-packages\\Katna\\helper_functions.py:119\u001b[0m, in \u001b[0;36mget_video_info\u001b[1;34m(file_path)\u001b[0m\n\u001b[0;32m    117\u001b[0m ret, frame \u001b[39m=\u001b[39m vid\u001b[39m.\u001b[39mread()\n\u001b[1;32m--> 119\u001b[0m frame_size_in_bytes \u001b[39m=\u001b[39m frame\u001b[39m.\u001b[39;49msize\n\u001b[0;32m    121\u001b[0m fps \u001b[39m=\u001b[39m vid\u001b[39m.\u001b[39mget(cv2\u001b[39m.\u001b[39mCAP_PROP_FPS)\n",
      "\u001b[1;31mAttributeError\u001b[0m: 'NoneType' object has no attribute 'size'",
      "\nDuring handling of the above exception, another exception occurred:\n",
      "\u001b[1;31mException\u001b[0m                                 Traceback (most recent call last)",
      "Cell \u001b[1;32mIn[103], line 23\u001b[0m\n\u001b[0;32m     18\u001b[0m \tvideo_file_path \u001b[39m=\u001b[39m episodes[\u001b[39m0\u001b[39m]\n\u001b[0;32m     20\u001b[0m \u001b[39m#\t print(f\"Input video file path = {video_file_path}\")\u001b[39;00m\n\u001b[0;32m     21\u001b[0m \n\u001b[0;32m     22\u001b[0m \t\u001b[39m# extract keyframes and process data with diskwriter\u001b[39;00m\n\u001b[1;32m---> 23\u001b[0m \tvd\u001b[39m.\u001b[39;49mextract_video_keyframes(\n\u001b[0;32m     24\u001b[0m \t\tno_of_frames\u001b[39m=\u001b[39;49mno_of_frames_to_returned, file_path\u001b[39m=\u001b[39;49mvideo_file_path,\n\u001b[0;32m     25\u001b[0m \t\twriter\u001b[39m=\u001b[39;49mdiskwriter\n\u001b[0;32m     26\u001b[0m \t)\n",
      "File \u001b[1;32mc:\\Users\\chris\\Documents\\projects\\manga_to_anime\\.venv\\lib\\site-packages\\Katna\\decorators.py:128\u001b[0m, in \u001b[0;36mFileDecorators.validate_file_path.<locals>.wrapper\u001b[1;34m(*args, **kwargs)\u001b[0m\n\u001b[0;32m    126\u001b[0m     \u001b[39mraise\u001b[39;00m \u001b[39mFileNotFoundError\u001b[39;00m(errno\u001b[39m.\u001b[39mENOENT, os\u001b[39m.\u001b[39mstrerror(errno\u001b[39m.\u001b[39mENOENT), f_path)\n\u001b[0;32m    127\u001b[0m \u001b[39melse\u001b[39;00m:\n\u001b[1;32m--> 128\u001b[0m     \u001b[39mreturn\u001b[39;00m decorated(\u001b[39m*\u001b[39margs, \u001b[39m*\u001b[39m\u001b[39m*\u001b[39mkwargs)\n",
      "File \u001b[1;32mc:\\Users\\chris\\Documents\\projects\\manga_to_anime\\.venv\\lib\\site-packages\\Katna\\video.py:312\u001b[0m, in \u001b[0;36mVideo.extract_video_keyframes\u001b[1;34m(self, no_of_frames, file_path, writer)\u001b[0m\n\u001b[0;32m    299\u001b[0m \u001b[39m\"\"\"Returns a list of best key images/frames from a single video.\u001b[39;00m\n\u001b[0;32m    300\u001b[0m \n\u001b[0;32m    301\u001b[0m \u001b[39m:param no_of_frames: Number of key frames to be extracted\u001b[39;00m\n\u001b[1;32m   (...)\u001b[0m\n\u001b[0;32m    308\u001b[0m \u001b[39m:rtype: list\u001b[39;00m\n\u001b[0;32m    309\u001b[0m \u001b[39m\"\"\"\u001b[39;00m\n\u001b[0;32m    311\u001b[0m \u001b[39m# get the video duration\u001b[39;00m\n\u001b[1;32m--> 312\u001b[0m video_duration \u001b[39m=\u001b[39m \u001b[39mself\u001b[39;49m\u001b[39m.\u001b[39;49m_get_video_duration_with_cv(file_path)\n\u001b[0;32m    314\u001b[0m \u001b[39m# duration is in seconds\u001b[39;00m\n\u001b[0;32m    315\u001b[0m \u001b[39mif\u001b[39;00m video_duration \u001b[39m>\u001b[39m (config\u001b[39m.\u001b[39mVideo\u001b[39m.\u001b[39mvideo_split_threshold_in_minutes \u001b[39m*\u001b[39m \u001b[39m60\u001b[39m):\n",
      "File \u001b[1;32mc:\\Users\\chris\\Documents\\projects\\manga_to_anime\\.venv\\lib\\site-packages\\Katna\\decorators.py:128\u001b[0m, in \u001b[0;36mFileDecorators.validate_file_path.<locals>.wrapper\u001b[1;34m(*args, **kwargs)\u001b[0m\n\u001b[0;32m    126\u001b[0m     \u001b[39mraise\u001b[39;00m \u001b[39mFileNotFoundError\u001b[39;00m(errno\u001b[39m.\u001b[39mENOENT, os\u001b[39m.\u001b[39mstrerror(errno\u001b[39m.\u001b[39mENOENT), f_path)\n\u001b[0;32m    127\u001b[0m \u001b[39melse\u001b[39;00m:\n\u001b[1;32m--> 128\u001b[0m     \u001b[39mreturn\u001b[39;00m decorated(\u001b[39m*\u001b[39margs, \u001b[39m*\u001b[39m\u001b[39m*\u001b[39mkwargs)\n",
      "File \u001b[1;32mc:\\Users\\chris\\Documents\\projects\\manga_to_anime\\.venv\\lib\\site-packages\\Katna\\video.py:686\u001b[0m, in \u001b[0;36mVideo._get_video_duration_with_cv\u001b[1;34m(self, file_path)\u001b[0m\n\u001b[0;32m    677\u001b[0m \u001b[39m@FileDecorators\u001b[39m\u001b[39m.\u001b[39mvalidate_file_path\n\u001b[0;32m    678\u001b[0m \u001b[39mdef\u001b[39;00m \u001b[39m_get_video_duration_with_cv\u001b[39m(\u001b[39mself\u001b[39m, file_path):\n\u001b[0;32m    679\u001b[0m     \u001b[39m\"\"\"\u001b[39;00m\n\u001b[0;32m    680\u001b[0m \u001b[39m    Computes video duration by getting frames count and fps info (using opencv)\u001b[39;00m\n\u001b[0;32m    681\u001b[0m \u001b[39m    :param file_path:\u001b[39;00m\n\u001b[1;32m   (...)\u001b[0m\n\u001b[0;32m    684\u001b[0m \u001b[39m    :rtype:\u001b[39;00m\n\u001b[0;32m    685\u001b[0m \u001b[39m    \"\"\"\u001b[39;00m\n\u001b[1;32m--> 686\u001b[0m     video_info \u001b[39m=\u001b[39m helper\u001b[39m.\u001b[39;49mget_video_info(file_path)\n\u001b[0;32m    687\u001b[0m     video_frame_size \u001b[39m=\u001b[39m video_info[\u001b[39m0\u001b[39m]\n\u001b[0;32m    688\u001b[0m     video_fps \u001b[39m=\u001b[39m video_info[\u001b[39m1\u001b[39m]\n",
      "File \u001b[1;32mc:\\Users\\chris\\Documents\\projects\\manga_to_anime\\.venv\\lib\\site-packages\\Katna\\decorators.py:128\u001b[0m, in \u001b[0;36mFileDecorators.validate_file_path.<locals>.wrapper\u001b[1;34m(*args, **kwargs)\u001b[0m\n\u001b[0;32m    126\u001b[0m     \u001b[39mraise\u001b[39;00m \u001b[39mFileNotFoundError\u001b[39;00m(errno\u001b[39m.\u001b[39mENOENT, os\u001b[39m.\u001b[39mstrerror(errno\u001b[39m.\u001b[39mENOENT), f_path)\n\u001b[0;32m    127\u001b[0m \u001b[39melse\u001b[39;00m:\n\u001b[1;32m--> 128\u001b[0m     \u001b[39mreturn\u001b[39;00m decorated(\u001b[39m*\u001b[39margs, \u001b[39m*\u001b[39m\u001b[39m*\u001b[39mkwargs)\n",
      "File \u001b[1;32mc:\\Users\\chris\\Documents\\projects\\manga_to_anime\\.venv\\lib\\site-packages\\Katna\\helper_functions.py:135\u001b[0m, in \u001b[0;36mget_video_info\u001b[1;34m(file_path)\u001b[0m\n\u001b[0;32m    133\u001b[0m     \u001b[39mraise\u001b[39;00m \u001b[39mException\u001b[39;00m(\u001b[39m\"\u001b[39m\u001b[39m Could not read frame from Video.\u001b[39m\u001b[39m\"\u001b[39m, e)\n\u001b[0;32m    134\u001b[0m \u001b[39mexcept\u001b[39;00m \u001b[39mException\u001b[39;00m \u001b[39mas\u001b[39;00m e:\n\u001b[1;32m--> 135\u001b[0m     \u001b[39mraise\u001b[39;00m \u001b[39mException\u001b[39;00m(\u001b[39m\"\u001b[39m\u001b[39m Could not read frame from Video.\u001b[39m\u001b[39m\"\u001b[39m, e)\n",
      "\u001b[1;31mException\u001b[0m: (' Could not read frame from Video.', AttributeError(\"'NoneType' object has no attribute 'size'\"))"
     ]
    }
   ],
   "source": [
    "from Katna.video import Video\n",
    "from Katna.writer import KeyFrameDiskWriter\n",
    "import os\n",
    "\n",
    "# For windows, the below if condition is must.\n",
    "if __name__ == \"__main__\":\n",
    "\n",
    "\t# initialize video module\n",
    "\tvd = Video()\n",
    "\n",
    "\t# number of images to be returned\n",
    "\tno_of_frames_to_returned = 12\n",
    "\n",
    "\t# initialize diskwriter to save data at desired location\n",
    "\tdiskwriter = KeyFrameDiskWriter(location=\"mta_data/frames/fma\")\n",
    "\n",
    "\t# Video file path\n",
    "\tvideo_file_path = episodes[0]\n",
    "\n",
    "#\t print(f\"Input video file path = {video_file_path}\")\n",
    "\n",
    "\t# extract keyframes and process data with diskwriter\n",
    "\tvd.extract_video_keyframes(\n",
    "\t\tno_of_frames=no_of_frames_to_returned, file_path=video_file_path,\n",
    "\t\twriter=diskwriter\n",
    "\t)"
   ]
  },
  {
   "cell_type": "code",
   "execution_count": 58,
   "metadata": {},
   "outputs": [
    {
     "data": {
      "text/plain": [
       "'c:\\\\Users\\\\chris\\\\Documents\\\\projects\\\\manga_to_anime\\\\mta_data\\\\episodes\\\\fma'"
      ]
     },
     "execution_count": 58,
     "metadata": {},
     "output_type": "execute_result"
    }
   ],
   "source": [
    "filename = episodes[0]\n",
    "\n",
    "def get_frame_types(video_fn):\n",
    "\tcommand = 'ffprobe -v error -show_entries frame=pict_type -of default=noprint_wrappers=1'.split()\n",
    "\tout = subprocess.check_output(command + [video_fn]).decode()\n",
    "\tframe_types = out.replace('pict_type=','').split()\n",
    "\treturn zip(range(len(frame_types)), frame_types)\n",
    "\n",
    "def save_i_keyframes(video_fn):\n",
    "\tframe_types = get_frame_types(video_fn)\n",
    "\ti_frames = [x[0] for x in frame_types if x[1]=='I']\n",
    "\tif i_frames:\n",
    "\t\tbasename = os.path.splitext(os.path.basename(video_fn))[0]\n",
    "\t\tcap = cv2.VideoCapture(video_fn)\n",
    "\t\tfor frame_no in i_frames:\n",
    "\t\t\tcap.set(cv2.CAP_PROP_POS_FRAMES, frame_no)\n",
    "\t\t\tret, frame = cap.read()\n",
    "\t\t\toutname = basename+'_i_frame_'+str(frame_no)+'.jpg'\n",
    "\t\t\tcv2.imwrite(outname, frame)\n",
    "\t\t\tprint ('Saved: '+outname)\n",
    "\t\tcap.release()\n",
    "\telse:\n",
    "\t\tprint ('No I-frames in '+video_fn)\n",
    "\n",
    "if __name__ == '__main__':\n",
    "\tsave_i_keyframes(filename)"
   ]
  },
  {
   "cell_type": "code",
   "execution_count": 57,
   "metadata": {},
   "outputs": [
    {
     "name": "stdout",
     "output_type": "stream",
     "text": [
      "!!! The output directory 'fma' is not empty. No iframes were extracted. !!!\n"
     ]
    }
   ],
   "source": [
    "vf.extract_keyframes(episodes[0], method=\"iframes\", output_dir_keyframes=abs_ep_path)"
   ]
  },
  {
   "cell_type": "code",
   "execution_count": 17,
   "metadata": {},
   "outputs": [
    {
     "ename": "KeyboardInterrupt",
     "evalue": "",
     "output_type": "error",
     "traceback": [
      "\u001b[1;31m---------------------------------------------------------------------------\u001b[0m",
      "\u001b[1;31mKeyboardInterrupt\u001b[0m                         Traceback (most recent call last)",
      "Cell \u001b[1;32mIn[17], line 4\u001b[0m\n\u001b[0;32m      2\u001b[0m ep_path \u001b[39m=\u001b[39m \u001b[39mf\u001b[39m\u001b[39m\"\u001b[39m\u001b[39mmta_data/episodes/\u001b[39m\u001b[39m{\u001b[39;00manime\u001b[39m}\u001b[39;00m\u001b[39m/\u001b[39m\u001b[39m\"\u001b[39m\n\u001b[0;32m      3\u001b[0m episodes \u001b[39m=\u001b[39m [os\u001b[39m.\u001b[39mpath\u001b[39m.\u001b[39mjoin(ep_path, file) \u001b[39mfor\u001b[39;00m file \u001b[39min\u001b[39;00m os\u001b[39m.\u001b[39mlistdir(ep_path)]\n\u001b[1;32m----> 4\u001b[0m \u001b[39mfor\u001b[39;00m idx, frame \u001b[39min\u001b[39;00m \u001b[39menumerate\u001b[39m(iio\u001b[39m.\u001b[39mimiter(episodes[\u001b[39m0\u001b[39m])):\n\u001b[0;32m      5\u001b[0m     iio\u001b[39m.\u001b[39mimwrite(\u001b[39mf\u001b[39m\u001b[39m\"\u001b[39m\u001b[39mmta_data/frames/\u001b[39m\u001b[39m{\u001b[39;00manime\u001b[39m}\u001b[39;00m\u001b[39m/ep1_\u001b[39m\u001b[39m{\u001b[39;00midx\u001b[39m:\u001b[39;00m\u001b[39m03d\u001b[39m\u001b[39m}\u001b[39;00m\u001b[39m.jpg\u001b[39m\u001b[39m\"\u001b[39m, frame)\n",
      "File \u001b[1;32mc:\\Users\\chris\\Documents\\projects\\manga_to_anime\\.venv\\lib\\site-packages\\imageio\\v3.py:98\u001b[0m, in \u001b[0;36mimiter\u001b[1;34m(uri, plugin, extension, format_hint, **kwargs)\u001b[0m\n\u001b[0;32m     58\u001b[0m \u001b[39m\"\"\"Read a sequence of ndimages from a URI.\u001b[39;00m\n\u001b[0;32m     59\u001b[0m \n\u001b[0;32m     60\u001b[0m \u001b[39mReturns an iterable that yields ndimages from the given URI. The exact\u001b[39;00m\n\u001b[1;32m   (...)\u001b[0m\n\u001b[0;32m     87\u001b[0m \n\u001b[0;32m     88\u001b[0m \u001b[39m\"\"\"\u001b[39;00m\n\u001b[0;32m     90\u001b[0m \u001b[39mwith\u001b[39;00m imopen(\n\u001b[0;32m     91\u001b[0m     uri,\n\u001b[0;32m     92\u001b[0m     \u001b[39m\"\u001b[39m\u001b[39mr\u001b[39m\u001b[39m\"\u001b[39m,\n\u001b[1;32m   (...)\u001b[0m\n\u001b[0;32m     96\u001b[0m     extension\u001b[39m=\u001b[39mextension,\n\u001b[0;32m     97\u001b[0m ) \u001b[39mas\u001b[39;00m img_file:\n\u001b[1;32m---> 98\u001b[0m     \u001b[39mfor\u001b[39;00m image \u001b[39min\u001b[39;00m img_file\u001b[39m.\u001b[39miter(\u001b[39m*\u001b[39m\u001b[39m*\u001b[39mkwargs):\n\u001b[0;32m     99\u001b[0m         \u001b[39m# Note: casting to ndarray here to ensure compatibility\u001b[39;00m\n\u001b[0;32m    100\u001b[0m         \u001b[39m# with the v2.9 API\u001b[39;00m\n\u001b[0;32m    101\u001b[0m         \u001b[39myield\u001b[39;00m np\u001b[39m.\u001b[39masarray(image)\n",
      "File \u001b[1;32mc:\\Users\\chris\\Documents\\projects\\manga_to_anime\\.venv\\lib\\site-packages\\imageio\\core\\legacy_plugin_wrapper.py:269\u001b[0m, in \u001b[0;36mLegacyPlugin.iter\u001b[1;34m(self, **kwargs)\u001b[0m\n\u001b[0;32m    258\u001b[0m \u001b[39m\"\"\"Iterate over a list of ndimages given by the URI\u001b[39;00m\n\u001b[0;32m    259\u001b[0m \n\u001b[0;32m    260\u001b[0m \u001b[39mParameters\u001b[39;00m\n\u001b[1;32m   (...)\u001b[0m\n\u001b[0;32m    265\u001b[0m \u001b[39m    format.\u001b[39;00m\n\u001b[0;32m    266\u001b[0m \u001b[39m\"\"\"\u001b[39;00m\n\u001b[0;32m    268\u001b[0m reader \u001b[39m=\u001b[39m \u001b[39mself\u001b[39m\u001b[39m.\u001b[39mlegacy_get_reader(\u001b[39m*\u001b[39m\u001b[39m*\u001b[39mkwargs)\n\u001b[1;32m--> 269\u001b[0m \u001b[39mfor\u001b[39;00m image \u001b[39min\u001b[39;00m reader:\n\u001b[0;32m    270\u001b[0m     \u001b[39myield\u001b[39;00m image\n",
      "File \u001b[1;32mc:\\Users\\chris\\Documents\\projects\\manga_to_anime\\.venv\\lib\\site-packages\\imageio\\core\\format.py:494\u001b[0m, in \u001b[0;36mFormat.Reader.iter_data\u001b[1;34m(self)\u001b[0m\n\u001b[0;32m    492\u001b[0m \u001b[39mwhile\u001b[39;00m i \u001b[39m<\u001b[39m n:\n\u001b[0;32m    493\u001b[0m     \u001b[39mtry\u001b[39;00m:\n\u001b[1;32m--> 494\u001b[0m         im, meta \u001b[39m=\u001b[39m \u001b[39mself\u001b[39;49m\u001b[39m.\u001b[39;49m_get_data(i)\n\u001b[0;32m    495\u001b[0m     \u001b[39mexcept\u001b[39;00m \u001b[39mStopIteration\u001b[39;00m:\n\u001b[0;32m    496\u001b[0m         \u001b[39mreturn\u001b[39;00m\n",
      "File \u001b[1;32mc:\\Users\\chris\\Documents\\projects\\manga_to_anime\\.venv\\lib\\site-packages\\imageio\\plugins\\ffmpeg.py:405\u001b[0m, in \u001b[0;36mFfmpegFormat.Reader._get_data\u001b[1;34m(self, index)\u001b[0m\n\u001b[0;32m    403\u001b[0m \u001b[39melse\u001b[39;00m:\n\u001b[0;32m    404\u001b[0m     \u001b[39mself\u001b[39m\u001b[39m.\u001b[39m_skip_frames(index \u001b[39m-\u001b[39m \u001b[39mself\u001b[39m\u001b[39m.\u001b[39m_pos \u001b[39m-\u001b[39m \u001b[39m1\u001b[39m)\n\u001b[1;32m--> 405\u001b[0m result, is_new \u001b[39m=\u001b[39m \u001b[39mself\u001b[39;49m\u001b[39m.\u001b[39;49m_read_frame()\n\u001b[0;32m    406\u001b[0m \u001b[39mself\u001b[39m\u001b[39m.\u001b[39m_pos \u001b[39m=\u001b[39m index\n\u001b[0;32m    407\u001b[0m \u001b[39mreturn\u001b[39;00m result, \u001b[39mdict\u001b[39m(new\u001b[39m=\u001b[39mis_new)\n",
      "File \u001b[1;32mc:\\Users\\chris\\Documents\\projects\\manga_to_anime\\.venv\\lib\\site-packages\\imageio\\plugins\\ffmpeg.py:509\u001b[0m, in \u001b[0;36mFfmpegFormat.Reader._read_frame\u001b[1;34m(self)\u001b[0m\n\u001b[0;32m    507\u001b[0m     s, is_new \u001b[39m=\u001b[39m \u001b[39mself\u001b[39m\u001b[39m.\u001b[39m_frame_catcher\u001b[39m.\u001b[39mget_frame()\n\u001b[0;32m    508\u001b[0m \u001b[39melse\u001b[39;00m:\n\u001b[1;32m--> 509\u001b[0m     s \u001b[39m=\u001b[39m \u001b[39mself\u001b[39;49m\u001b[39m.\u001b[39;49m_read_gen\u001b[39m.\u001b[39;49m\u001b[39m__next__\u001b[39;49m()\n\u001b[0;32m    510\u001b[0m     is_new \u001b[39m=\u001b[39m \u001b[39mTrue\u001b[39;00m\n\u001b[0;32m    512\u001b[0m \u001b[39m# Check\u001b[39;00m\n",
      "File \u001b[1;32mc:\\Users\\chris\\Documents\\projects\\manga_to_anime\\.venv\\lib\\site-packages\\imageio_ffmpeg\\_io.py:314\u001b[0m, in \u001b[0;36mread_frames\u001b[1;34m(path, pix_fmt, bpp, input_params, output_params, bits_per_pixel)\u001b[0m\n\u001b[0;32m    312\u001b[0m bb \u001b[39m=\u001b[39m \u001b[39mbytes\u001b[39m()\n\u001b[0;32m    313\u001b[0m \u001b[39mwhile\u001b[39;00m \u001b[39mlen\u001b[39m(bb) \u001b[39m<\u001b[39m framesize_bytes:\n\u001b[1;32m--> 314\u001b[0m     extra_bytes \u001b[39m=\u001b[39m p\u001b[39m.\u001b[39;49mstdout\u001b[39m.\u001b[39;49mread(framesize_bytes \u001b[39m-\u001b[39;49m \u001b[39mlen\u001b[39;49m(bb))\n\u001b[0;32m    315\u001b[0m     \u001b[39mif\u001b[39;00m \u001b[39mnot\u001b[39;00m extra_bytes:\n\u001b[0;32m    316\u001b[0m         \u001b[39mif\u001b[39;00m \u001b[39mlen\u001b[39m(bb) \u001b[39m==\u001b[39m \u001b[39m0\u001b[39m:\n",
      "\u001b[1;31mKeyboardInterrupt\u001b[0m: "
     ]
    }
   ],
   "source": [
    "anime = 'fma'\n",
    "ep_path = f\"mta_data/episodes/{anime}/\"\n",
    "episodes = [os.path.join(ep_path, file) for file in os.listdir(ep_path)]\n",
    "# for idx, frame in enumerate(iio.imiter(episodes[0])):\n",
    "#     iio.imwrite(f\"mta_data/frames/{anime}/ep1_{idx:03d}.jpg\", frame)"
   ]
  }
 ],
 "metadata": {
  "kernelspec": {
   "display_name": "Python 3 (ipykernel)",
   "language": "python",
   "name": "python3"
  },
  "language_info": {
   "codemirror_mode": {
    "name": "ipython",
    "version": 3
   },
   "file_extension": ".py",
   "mimetype": "text/x-python",
   "name": "python",
   "nbconvert_exporter": "python",
   "pygments_lexer": "ipython3",
   "version": "3.8.10"
  },
  "vscode": {
   "interpreter": {
    "hash": "20c806aea6aee0d8159b1162c1f1829f4de4b3ad6bffbe31d67fec7bf58885e6"
   }
  }
 },
 "nbformat": 4,
 "nbformat_minor": 2
}
