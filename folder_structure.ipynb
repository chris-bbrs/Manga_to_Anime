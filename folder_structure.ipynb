{
 "cells": [
  {
   "cell_type": "code",
   "execution_count": 1,
   "metadata": {},
   "outputs": [],
   "source": [
    "import re\n",
    "\n",
    "def get_episode_number(file_name: str) -> int:\n",
    "\t# Try to extract the episode number using a regular expression that matches the \"SXXEYY\" pattern\n",
    "\tpattern = r'(?<=\\b[Ss]\\d\\d[Ee])(\\d+)'\n",
    "\tmatch = re.search(pattern, file_name)\n",
    "\tif match:\n",
    "\t\tepisode_number = int(match.group(0))\n",
    "\t\treturn episode_number\n",
    "\t# If the episode number was not found using the \"SXXEYY\" pattern, try to extract it using a regular expression\n",
    "\t# that matches a sequence of digits\n",
    "\tpattern = r'\\b\\d+\\b'\n",
    "\tmatch = re.search(pattern, file_name)\n",
    "\tif match:\n",
    "\t\tepisode_number = int(match.group(0))\n",
    "\t\treturn episode_number\n",
    "\tfor i, c in enumerate(file_name):\n",
    "\t\tif c.isdigit():\n",
    "\t\t\t# If a digit is found, try to extract the episode number as a sequence of digits following it\n",
    "\t\t\tepisode_number_str = \"\"\n",
    "\t\t\tfor j in range(i, len(file_name)):\n",
    "\t\t\t\tif file_name[j].isdigit():\n",
    "\t\t\t\t\tepisode_number_str += file_name[j]\n",
    "\t\t\t\telse:\n",
    "\t\t\t\t\tbreak\n",
    "\t\t\treturn int(episode_number_str)\n",
    "\treturn None"
   ]
  },
  {
   "cell_type": "code",
   "execution_count": 3,
   "metadata": {},
   "outputs": [],
   "source": [
    "import os\n",
    "\n",
    "data_dir = 'data'\n",
    "anime = 'fma'\n",
    "total_chapters = 108\n",
    "\n",
    "ep_path = f\"data/{anime}/episodes/\"\n",
    "ep_names = os.listdir(ep_path)\n",
    "\n",
    "episodes = []\n",
    "ready = []\n",
    "frames = [f\"ep{get_episode_number(ep)}\" for ep in ep_names]\n",
    "manga = [f\"ch{i}\" for i in range(1, total_chapters + 1)]\n",
    "panels = manga"
   ]
  },
  {
   "cell_type": "code",
   "execution_count": 51,
   "metadata": {},
   "outputs": [],
   "source": [
    "main_dir = [episodes, frames, manga, panels, ready]\t# Loading the list of sub-directories\n",
    "if not os.path.exists(data_dir):\n",
    "\tos.mkdir(data_dir)\n",
    "root_dir = f\"{data_dir}/{anime}\"\n",
    "main_dir_names = ['episodes', 'frames', 'manga', 'panels', 'ready'] # Name of the sub-directories\n",
    "def create_dir_struct():\n",
    "\t# Create directory\n",
    "\tfor i in range(0, len(main_dir)):\n",
    "\t\tif len(main_dir[i]) == 0:\n",
    "\t\t\tif not os.path.exists(main_dir_names[i]):\n",
    "\t\t\t\tos.makedirs(f\"{root_dir}/{main_dir_names[i]}\")\n",
    "\t\tfor j in range(0,len(main_dir[i])):\n",
    "\t\t\tdirName = f\"{root_dir}/{main_dir_names[i]}/{main_dir[i][j]}\"\n",
    "\t\t\t# Create target Directory if don't exist\n",
    "\t\t\tif not os.path.exists(dirName):\n",
    "\t\t\t\tos.makedirs(dirName)\n",
    "\n",
    "if __name__ == '__main__':\n",
    "\tcreate_dir_struct()"
   ]
  },
  {
   "cell_type": "code",
   "execution_count": 55,
   "metadata": {},
   "outputs": [],
   "source": [
    "import mangadex\n",
    "\n",
    "api = mangadex.Api()\n",
    "# api.get_manga_list(title = \"Berserk\")"
   ]
  },
  {
   "cell_type": "code",
   "execution_count": null,
   "metadata": {},
   "outputs": [],
   "source": [
    "manga_list = api.get_manga_list(title=\"Berserk\")\n",
    "for manga in manga_list:\n",
    "    # if manga['title'].get('en') == exact_title:\n",
    "    print(manga['title'])"
   ]
  },
  {
   "cell_type": "code",
   "execution_count": 69,
   "metadata": {},
   "outputs": [
    {
     "data": {
      "text/plain": [
       "Chapter(id = 6310f6a1-17ee-4890-b837-2ec1b372905b, title = The Black Swordsman, volume = 1, chapter = 0.01, translatedLanguage = en, hash =  \n",
       "data = List[filenames], publishAt = 2018-01-31 07:07:06+00:00, createdAt = 2018-01-31 07:07:06+00:00, uploadedAt = 2018-01-31 07:07:06+00:00, scanlation_group_id = 4b98efe6-e5f2-4077-b9b3-193e3d9c5022, Mangaid = 801513ba-a712-498c-8f57-cae55b38cc92, uploader = b86e992f-c93c-4286-90d0-e1eba31cadf7)"
      ]
     },
     "execution_count": 69,
     "metadata": {},
     "output_type": "execute_result"
    }
   ],
   "source": [
    "def filter_manga_by_title(exact_title):\n",
    "    manga_list = api.get_manga_list(title=exact_title, hasAvailableChapters=\"true\")\n",
    "    return [manga for manga in manga_list if manga.title.get('en') == exact_title]\n",
    "\n",
    "filtered_manga = filter_manga_by_title(\"Berserk\")\n",
    "chapters = api.chapter_list(manga=filtered_manga[0].manga_id, volume=str(1), translatedLanguage=['en'])\n",
    "chapters[0].fetch_chapter_images"
   ]
  },
  {
   "cell_type": "raw",
   "metadata": {},
   "source": [
    "Endpoint\t\t\t\t\tRequests_per_time_period\tTime_period_in_minutes\n",
    "POST /chapter/{id}/read\t\t300\t\t\t\t\t\t\t10\n",
    "PUT /chapter/{id}\t\t\t10\t\t\t\t\t\t\t1\n",
    "DELETE /chapter/{id}\t\t10\t\t\t\t\t\t\t1"
   ]
  },
  {
   "cell_type": "code",
   "execution_count": 70,
   "metadata": {},
   "outputs": [],
   "source": [
    "import asyncio\n",
    "import aiohttp\n",
    "import mangadex\n",
    "import os\n",
    "from PIL import Image\n",
    "from datetime import timedelta\n",
    "\n",
    "def is_image_valid(image_path):\n",
    "    try:\n",
    "        # Open the image and check if it is valid\n",
    "        with Image.open(image_path) as img:\n",
    "            img.verify()\n",
    "    except Exception:\n",
    "        # If the image is invalid, return False\n",
    "        return False\n",
    "    else:\n",
    "        # If the image is valid, return True\n",
    "        return True\n",
    "\n",
    "def filter_manga_by_title(exact_title):\n",
    "    manga_list = api.get_manga_list(title=exact_title, hasAvailableChapters=\"true\")\n",
    "    return [manga for manga in manga_list if manga.title.get('en') == exact_title]\n",
    "\n",
    "# Set the rate limit and time period\n",
    "rate_limit = 300\n",
    "time_period = 10 * 60  # 10 minutes in seconds\n",
    "\n",
    "# Calculate the delay between requests based on the rate limit and time period\n",
    "delay = time_period / rate_limit\n",
    "\n",
    "api = mangadex.Api()\n",
    "manga_id = filter_manga_by_title(\"Berserk\")[0].manga_id\n",
    "\n",
    "data_dir = 'data'\n",
    "anime = 'berserk'\n",
    "total_volumes = 2\n",
    "\n",
    "# Desired location to save the images\n",
    "manga_folder = f\"{data_dir}/{anime}/manga\"\n",
    "\n",
    "# Ensure the base manga folder exists\n",
    "os.makedirs(manga_folder, exist_ok=True)\n",
    "\n",
    "# Function to download an image given its URL\n",
    "async def download_image(url, save_location, semaphore):\n",
    "    # Ensure the save location directory exists\n",
    "    os.makedirs(save_location, exist_ok=True)\n",
    "\n",
    "    # Acquire the semaphore to limit the number of concurrent tasks\n",
    "    async with semaphore:\n",
    "        # Get the image name and keep only the part after 'x'\n",
    "        image_name = url.split('/')[-1].split('-')[0]\n",
    "        # Get the file extension\n",
    "        file_extension = url.split('.')[-1]\n",
    "        timeout = aiohttp.ClientTimeout(\n",
    "            sock_connect=timedelta(seconds=10).total_seconds(),\n",
    "            sock_read=timedelta(seconds=15).total_seconds(),\n",
    "            total=timedelta(seconds=20).total_seconds()\n",
    "        )\n",
    "        async with aiohttp.ClientSession(timeout=timeout, connector=aiohttp.TCPConnector(limit=10)) as session:\n",
    "            try:\n",
    "                async with session.get(url) as resp:\n",
    "                    if resp.status == 200:\n",
    "                        image_data = await resp.read()\n",
    "                        # Save the image to a file\n",
    "                        image_path = f\"{save_location}/{image_name}.{file_extension}\"\n",
    "                        with open(image_path, 'wb') as f:\n",
    "                            f.write(image_data)\n",
    "                        # Check if the image is valid\n",
    "                        if not is_image_valid(image_path):\n",
    "                            # If the image is invalid, remove it and return the URL and chapter number\n",
    "                            os.remove(image_path)\n",
    "                            return url, chapter\n",
    "            except asyncio.TimeoutError:\n",
    "                # If a TimeoutError occurs, retry the request\n",
    "                print(\"TimeoutError occurred\")\n",
    "                return await download_image(url, save_location, semaphore)\n",
    "\n",
    "# Create a semaphore with a limit of 10 concurrent tasks\n",
    "semaphore = asyncio.Semaphore(10)\n",
    "\n",
    "# List to store the URLs and chapter numbers of invalid images\n",
    "invalid_images = []\n",
    "\n",
    "async def download_chapters():\n",
    "    # Loop through the chapters\n",
    "    for volume in range(1, total_volumes + 1):\n",
    "        chapters = api.chapter_list(manga=manga_id, volume=str(volume), translatedLanguage=['en'])\n",
    "\n",
    "        for c, chapter in enumerate(chapters):\n",
    "            save_location = f\"{manga_folder}/volume_{volume}/ch_{c}\"\n",
    "            chapter_images = chapter.fetch_chapter_images()\n",
    "\n",
    "            # Use asyncio.gather to download the images concurrently\n",
    "            results = await asyncio.gather(*[download_image(url, save_location, semaphore) for url in chapter_images], return_exceptions=True)\n",
    "\n",
    "            # Add the invalid images to the list\n",
    "            invalid_images.extend([result for result in results if result is not None])\n",
    "\n",
    "            await asyncio.sleep(delay)\n",
    "\n",
    "# If inside an async environment, use this instead of asyncio.run()\n",
    "await download_chapters()"
   ]
  }
 ],
 "metadata": {
  "kernelspec": {
   "display_name": ".venv",
   "language": "python",
   "name": "python3"
  },
  "language_info": {
   "codemirror_mode": {
    "name": "ipython",
    "version": 3
   },
   "file_extension": ".py",
   "mimetype": "text/x-python",
   "name": "python",
   "nbconvert_exporter": "python",
   "pygments_lexer": "ipython3",
   "version": "3.10.4"
  },
  "orig_nbformat": 4,
  "vscode": {
   "interpreter": {
    "hash": "826286f252ddcff787408661d182f2c63da5c69a1bdcb0cb2e03ac788e5f338e"
   }
  }
 },
 "nbformat": 4,
 "nbformat_minor": 2
}
